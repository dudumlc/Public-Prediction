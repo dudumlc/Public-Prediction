{
 "cells": [
  {
   "cell_type": "code",
   "execution_count": 42,
   "id": "5815af47",
   "metadata": {},
   "outputs": [],
   "source": [
    "import os\n",
    "import pandas as pd\n",
    "from preprocessing.data_cleaning import DataCleaner\n",
    "\n",
    "df_raw_clima = pd.read_parquet('C:\\\\Users\\\\Dudu_\\\\OneDrive\\\\Documentos\\\\Estudos\\\\1. Projetos Pessoais\\\\3. Previsão Público Cruzeiro\\\\data\\\\raw\\\\df_raw_clima.parquet',use_pandas_metadata=False, engine=\"pyarrow\")\n",
    "df_trusted_clima = pd.read_parquet('C:\\\\Users\\\\Dudu_\\\\OneDrive\\\\Documentos\\\\Estudos\\\\1. Projetos Pessoais\\\\3. Previsão Público Cruzeiro\\\\data\\\\trusted\\\\df_trusted_clima.parquet',use_pandas_metadata=False, engine=\"pyarrow\")\n",
    "df_refined_clima = pd.read_parquet('C:\\\\Users\\\\Dudu_\\\\OneDrive\\\\Documentos\\\\Estudos\\\\1. Projetos Pessoais\\\\3. Previsão Público Cruzeiro\\\\data\\\\refined\\\\df_refined_clima.parquet',use_pandas_metadata=False, engine=\"pyarrow\")"
   ]
  },
  {
   "cell_type": "code",
   "execution_count": 43,
   "id": "cda599c2",
   "metadata": {},
   "outputs": [
    {
     "data": {
      "text/plain": [
       "Data                        0.000000\n",
       "Hora UTC                    0.000000\n",
       "precipitacao_total          0.076668\n",
       "temp_media_bulbo_seco       0.077450\n",
       "temp_media_ponto_orvalho    0.077450\n",
       "velocidade_media_vento      0.077450\n",
       "dtype: float64"
      ]
     },
     "execution_count": 43,
     "metadata": {},
     "output_type": "execute_result"
    }
   ],
   "source": [
    "(df_trusted_clima.isna().sum() / df_trusted_clima.shape[0]) * 100"
   ]
  },
  {
   "cell_type": "code",
   "execution_count": 44,
   "id": "986675fc",
   "metadata": {},
   "outputs": [
    {
     "data": {
      "text/plain": [
       "Data\n",
       "2020-09-03    10\n",
       "2020-09-04    13\n",
       "2020-09-05    13\n",
       "2020-09-06    13\n",
       "2020-09-07    14\n",
       "2020-09-08    15\n",
       "2020-09-09    11\n",
       "2022-12-08     7\n",
       "2022-12-20     1\n",
       "2024-10-12     1\n",
       "dtype: int64"
      ]
     },
     "execution_count": 44,
     "metadata": {},
     "output_type": "execute_result"
    }
   ],
   "source": [
    "df_trusted_clima[df_trusted_clima['precipitacao_total'].isna()].groupby('Data').size()"
   ]
  },
  {
   "cell_type": "code",
   "execution_count": 45,
   "id": "82f9126e",
   "metadata": {},
   "outputs": [],
   "source": [
    "teste = df_trusted_clima.groupby(['Data']).agg({'precipitacao_total': 'sum',\n",
    "                                                'temp_media_bulbo_seco': 'mean',\n",
    "                                                'temp_media_ponto_orvalho': 'mean',\n",
    "                                                'velocidade_media_vento': 'mean'}).reset_index()"
   ]
  },
  {
   "cell_type": "code",
   "execution_count": 48,
   "id": "89f1cf9c",
   "metadata": {},
   "outputs": [
    {
     "data": {
      "text/html": [
       "<div>\n",
       "<style scoped>\n",
       "    .dataframe tbody tr th:only-of-type {\n",
       "        vertical-align: middle;\n",
       "    }\n",
       "\n",
       "    .dataframe tbody tr th {\n",
       "        vertical-align: top;\n",
       "    }\n",
       "\n",
       "    .dataframe thead th {\n",
       "        text-align: right;\n",
       "    }\n",
       "</style>\n",
       "<table border=\"1\" class=\"dataframe\">\n",
       "  <thead>\n",
       "    <tr style=\"text-align: right;\">\n",
       "      <th></th>\n",
       "      <th>Data</th>\n",
       "      <th>precipitacao_total</th>\n",
       "      <th>temp_media_bulbo_seco</th>\n",
       "      <th>temp_media_ponto_orvalho</th>\n",
       "      <th>velocidade_media_vento</th>\n",
       "    </tr>\n",
       "  </thead>\n",
       "  <tbody>\n",
       "    <tr>\n",
       "      <th>0</th>\n",
       "      <td>2011-01-01</td>\n",
       "      <td>28.2</td>\n",
       "      <td>19.212500</td>\n",
       "      <td>18.083333</td>\n",
       "      <td>1.950000</td>\n",
       "    </tr>\n",
       "    <tr>\n",
       "      <th>1</th>\n",
       "      <td>2011-01-02</td>\n",
       "      <td>16.4</td>\n",
       "      <td>20.133333</td>\n",
       "      <td>18.591667</td>\n",
       "      <td>1.337500</td>\n",
       "    </tr>\n",
       "    <tr>\n",
       "      <th>2</th>\n",
       "      <td>2011-01-03</td>\n",
       "      <td>49.6</td>\n",
       "      <td>20.300000</td>\n",
       "      <td>18.895833</td>\n",
       "      <td>1.675000</td>\n",
       "    </tr>\n",
       "    <tr>\n",
       "      <th>3</th>\n",
       "      <td>2011-01-04</td>\n",
       "      <td>26.4</td>\n",
       "      <td>20.925000</td>\n",
       "      <td>19.225000</td>\n",
       "      <td>1.795833</td>\n",
       "    </tr>\n",
       "    <tr>\n",
       "      <th>4</th>\n",
       "      <td>2011-01-05</td>\n",
       "      <td>15.0</td>\n",
       "      <td>21.079167</td>\n",
       "      <td>19.529167</td>\n",
       "      <td>1.033333</td>\n",
       "    </tr>\n",
       "    <tr>\n",
       "      <th>...</th>\n",
       "      <td>...</td>\n",
       "      <td>...</td>\n",
       "      <td>...</td>\n",
       "      <td>...</td>\n",
       "      <td>...</td>\n",
       "    </tr>\n",
       "    <tr>\n",
       "      <th>5321</th>\n",
       "      <td>2025-07-27</td>\n",
       "      <td>0.0</td>\n",
       "      <td>20.195833</td>\n",
       "      <td>12.462500</td>\n",
       "      <td>1.650000</td>\n",
       "    </tr>\n",
       "    <tr>\n",
       "      <th>5322</th>\n",
       "      <td>2025-07-28</td>\n",
       "      <td>0.0</td>\n",
       "      <td>20.683333</td>\n",
       "      <td>10.958333</td>\n",
       "      <td>1.300000</td>\n",
       "    </tr>\n",
       "    <tr>\n",
       "      <th>5323</th>\n",
       "      <td>2025-07-29</td>\n",
       "      <td>0.0</td>\n",
       "      <td>20.350000</td>\n",
       "      <td>9.883333</td>\n",
       "      <td>1.587500</td>\n",
       "    </tr>\n",
       "    <tr>\n",
       "      <th>5324</th>\n",
       "      <td>2025-07-30</td>\n",
       "      <td>0.0</td>\n",
       "      <td>17.945833</td>\n",
       "      <td>2.950000</td>\n",
       "      <td>0.712500</td>\n",
       "    </tr>\n",
       "    <tr>\n",
       "      <th>5325</th>\n",
       "      <td>2025-07-31</td>\n",
       "      <td>0.0</td>\n",
       "      <td>17.233333</td>\n",
       "      <td>7.712500</td>\n",
       "      <td>1.345833</td>\n",
       "    </tr>\n",
       "  </tbody>\n",
       "</table>\n",
       "<p>5326 rows × 5 columns</p>\n",
       "</div>"
      ],
      "text/plain": [
       "           Data  precipitacao_total  temp_media_bulbo_seco  \\\n",
       "0    2011-01-01                28.2              19.212500   \n",
       "1    2011-01-02                16.4              20.133333   \n",
       "2    2011-01-03                49.6              20.300000   \n",
       "3    2011-01-04                26.4              20.925000   \n",
       "4    2011-01-05                15.0              21.079167   \n",
       "...         ...                 ...                    ...   \n",
       "5321 2025-07-27                 0.0              20.195833   \n",
       "5322 2025-07-28                 0.0              20.683333   \n",
       "5323 2025-07-29                 0.0              20.350000   \n",
       "5324 2025-07-30                 0.0              17.945833   \n",
       "5325 2025-07-31                 0.0              17.233333   \n",
       "\n",
       "      temp_media_ponto_orvalho  velocidade_media_vento  \n",
       "0                    18.083333                1.950000  \n",
       "1                    18.591667                1.337500  \n",
       "2                    18.895833                1.675000  \n",
       "3                    19.225000                1.795833  \n",
       "4                    19.529167                1.033333  \n",
       "...                        ...                     ...  \n",
       "5321                 12.462500                1.650000  \n",
       "5322                 10.958333                1.300000  \n",
       "5323                  9.883333                1.587500  \n",
       "5324                  2.950000                0.712500  \n",
       "5325                  7.712500                1.345833  \n",
       "\n",
       "[5326 rows x 5 columns]"
      ]
     },
     "execution_count": 48,
     "metadata": {},
     "output_type": "execute_result"
    }
   ],
   "source": [
    "teste"
   ]
  }
 ],
 "metadata": {
  "kernelspec": {
   "display_name": "cruzeiroenv",
   "language": "python",
   "name": "python3"
  },
  "language_info": {
   "codemirror_mode": {
    "name": "ipython",
    "version": 3
   },
   "file_extension": ".py",
   "mimetype": "text/x-python",
   "name": "python",
   "nbconvert_exporter": "python",
   "pygments_lexer": "ipython3",
   "version": "3.12.6"
  }
 },
 "nbformat": 4,
 "nbformat_minor": 5
}
