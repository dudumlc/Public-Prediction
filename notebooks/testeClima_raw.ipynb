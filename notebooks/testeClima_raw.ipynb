{
 "cells": [
  {
   "cell_type": "code",
   "execution_count": 1,
   "metadata": {},
   "outputs": [],
   "source": [
    "import warnings\n",
    "warnings.filterwarnings(\"ignore\")"
   ]
  },
  {
   "cell_type": "code",
   "execution_count": 2,
   "metadata": {},
   "outputs": [],
   "source": [
    "import pandas as pd\n",
    "import requests\n",
    "from bs4 import BeautifulSoup\n",
    "import pandas as pd\n",
    "import seaborn as sns\n",
    "import matplotlib.pyplot as plt\n",
    "import os"
   ]
  },
  {
   "cell_type": "code",
   "execution_count": 121,
   "metadata": {},
   "outputs": [],
   "source": [
    "import os\n",
    "import pandas as pd\n",
    "\n",
    "# Pasta onde se encontram todos os dfs\n",
    "pasta = 'C:\\\\Users\\\\Pichau\\\\Desktop\\\\projetos\\\\pampulha'\n",
    "\n",
    "# Listagem de todos os arquivos na pasta\n",
    "arquivos = os.listdir(pasta)\n",
    "\n",
    "# Lista para armazenar os dfs\n",
    "dfs = []\n",
    "\n",
    "# Loop sobre os arquivos na pasta\n",
    "for arquivo in arquivos:\n",
    "    # Verifica se o arquivo é um arquivo CSV\n",
    "    if arquivo.endswith('.CSV'):\n",
    "        # Constrói o caminho completo para o arquivo\n",
    "        caminho_arquivo = os.path.join(pasta, arquivo)\n",
    "        \n",
    "        # Leitura do arquivo CSV e pula as primeiras 8 linhas\n",
    "        df = pd.read_csv(caminho_arquivo, encoding='latin-1', delimiter=';', skiprows=8)\n",
    "        \n",
    "        # Inclusão do df à lista\n",
    "        dfs.append(df)"
   ]
  },
  {
   "cell_type": "code",
   "execution_count": 122,
   "metadata": {},
   "outputs": [],
   "source": [
    "# Salvando dfs apenas com as colunas necessárias em um dicionário com a chave de cada df sendo seu ano respectivo\n",
    "\n",
    "vars = {}\n",
    "for i in range(0,11+1):\n",
    "    if i == 0 or i == 1 or i > 9:\n",
    "        vars[dfs[i].iloc[:,0].str[:4][0]] = dfs[i][['Data','Hora UTC','TEMPERATURA MÁXIMA NA HORA ANT. (AUT) (°C)','TEMPERATURA MÍNIMA NA HORA ANT. (AUT) (°C)']]\n",
    "    else:\n",
    "        vars[dfs[i].iloc[:,0].str[:4][0]] = dfs[i][['DATA (YYYY-MM-DD)','HORA (UTC)','TEMPERATURA MÁXIMA NA HORA ANT. (AUT) (°C)','TEMPERATURA MÍNIMA NA HORA ANT. (AUT) (°C)']]"
   ]
  },
  {
   "cell_type": "code",
   "execution_count": 133,
   "metadata": {},
   "outputs": [],
   "source": [
    "# Padronizando o nome das colunas de todos os dfs (até 2018 era distinto)\n",
    "\n",
    "for i in range(2011,2018+1):\n",
    "    if i < 2019:\n",
    "        vars[str(i)].rename(columns={'DATA (YYYY-MM-DD)':'Data',\n",
    "                                     'HORA (UTC)':'Hora UTC'},\n",
    "                            inplace=True)"
   ]
  },
  {
   "cell_type": "code",
   "execution_count": 138,
   "metadata": {},
   "outputs": [
    {
     "data": {
      "text/plain": [
       "0      2018-01-01\n",
       "1      2018-01-01\n",
       "2      2018-01-01\n",
       "3      2018-01-01\n",
       "4      2018-01-01\n",
       "          ...    \n",
       "8755   2018-12-31\n",
       "8756   2018-12-31\n",
       "8757   2018-12-31\n",
       "8758   2018-12-31\n",
       "8759   2018-12-31\n",
       "Name: Data, Length: 8760, dtype: datetime64[ns]"
      ]
     },
     "execution_count": 138,
     "metadata": {},
     "output_type": "execute_result"
    }
   ],
   "source": [
    "# Ajustando tipos de dados\n",
    "pd.to_datetime(vars['2018']['Data'], format='%Y-%m-%d')"
   ]
  },
  {
   "cell_type": "code",
   "execution_count": 6,
   "metadata": {},
   "outputs": [],
   "source": [
    "import xgboost as xgb\n",
    "import pandas as pd\n",
    "import seaborn as sns"
   ]
  }
 ],
 "metadata": {
  "kernelspec": {
   "display_name": "cruzeiroenv",
   "language": "python",
   "name": "python3"
  },
  "language_info": {
   "codemirror_mode": {
    "name": "ipython",
    "version": 3
   },
   "file_extension": ".py",
   "mimetype": "text/x-python",
   "name": "python",
   "nbconvert_exporter": "python",
   "pygments_lexer": "ipython3",
   "version": "3.12.6"
  },
  "orig_nbformat": 4
 },
 "nbformat": 4,
 "nbformat_minor": 2
}
