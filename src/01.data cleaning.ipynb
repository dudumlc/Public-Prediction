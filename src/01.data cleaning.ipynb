{
 "cells": [
  {
   "cell_type": "code",
   "execution_count": 559,
   "id": "18493cff",
   "metadata": {},
   "outputs": [],
   "source": [
    "import pandas as pd\n",
    "import re\n",
    "\n",
    "from preprocessing.data_cleaning import DataCleaner\n",
    "\n",
    "pd.options.display.max_columns = 999"
   ]
  },
  {
   "cell_type": "code",
   "execution_count": 560,
   "id": "470e47ce",
   "metadata": {},
   "outputs": [],
   "source": [
    "# LEITURA DOS DADOS BRUTOS ADQUIRIDOS \n",
    "\n",
    "df_raw_ = pd.read_parquet(\"C:\\\\Users\\\\Dudu_\\\\OneDrive\\\\Documentos\\\\Estudos\\\\1. Projetos Pessoais\\\\3. Previsão Público Cruzeiro\\\\data\\\\refined\\\\df_refined.parquet\",use_pandas_metadata=False, engine=\"pyarrow\")\n",
    "\n",
    "df = df_raw_.copy()"
   ]
  },
  {
   "cell_type": "code",
   "execution_count": 561,
   "id": "adaf6b6b",
   "metadata": {},
   "outputs": [
    {
     "data": {
      "text/plain": [
       "(926, 23)"
      ]
     },
     "execution_count": 561,
     "metadata": {},
     "output_type": "execute_result"
    }
   ],
   "source": [
    "df.shape"
   ]
  },
  {
   "cell_type": "code",
   "execution_count": 562,
   "id": "c19cda06",
   "metadata": {},
   "outputs": [
    {
     "data": {
      "text/plain": [
       "publico_presente                   271\n",
       "renda_bruta                         54\n",
       "publico_pagante                     35\n",
       "adversario                           0\n",
       "ano                                  0\n",
       "dia_semana                           0\n",
       "estadio                              0\n",
       "campeonato                           0\n",
       "placar                               0\n",
       "horario                              0\n",
       "dia                                  0\n",
       "mes                                  0\n",
       "data_formatada                       0\n",
       "campeonato_ajustado                  0\n",
       "gols_visitante                       0\n",
       "gols_mandante                        0\n",
       "gols_total                           0\n",
       "pontos_alcancados                    0\n",
       "resultado                            0\n",
       "aproveitamento_temporada_previo      0\n",
       "jogos_invencibilidade_previo         0\n",
       "estreia                              0\n",
       "classico                             0\n",
       "dtype: int64"
      ]
     },
     "execution_count": 562,
     "metadata": {},
     "output_type": "execute_result"
    }
   ],
   "source": [
    "x = (df.isna().sum() )\n",
    "x.sort_values(ascending=False).round(2)"
   ]
  },
  {
   "cell_type": "code",
   "execution_count": 563,
   "id": "b8497b45",
   "metadata": {},
   "outputs": [],
   "source": [
    "df[['gols_visitante','gols_mandante','dia','mes']] = df[['gols_visitante','gols_mandante','dia','mes']].astype(int)"
   ]
  },
  {
   "cell_type": "code",
   "execution_count": 564,
   "id": "cd04abd2",
   "metadata": {},
   "outputs": [],
   "source": [
    "df['resultado_previo'] = df['resultado'].shift(1)\n",
    "df['gols_mandante_previo'] = df['gols_mandante'].shift(1)\n",
    "df['gols_visitante_previo'] = df['gols_visitante'].shift(1)\n",
    "df['gols_total_previo'] = df['gols_total'].shift(1)\n",
    "df['saldo_gols_previo'] = df['gols_mandante_previo'] - df['gols_visitante_previo']\n",
    "\n",
    "def periodo_do_dia(horario):\n",
    "    hora = int(horario.split(':')[0])\n",
    "    if hora < 12:\n",
    "        return 'manha'\n",
    "    elif hora < 18:\n",
    "        return 'tarde'\n",
    "    else:\n",
    "        return 'noite'\n",
    "\n",
    "df['periodo'] = df['horario'].apply(periodo_do_dia)"
   ]
  },
  {
   "cell_type": "code",
   "execution_count": 565,
   "id": "f9bca91e",
   "metadata": {},
   "outputs": [],
   "source": [
    "df = df[df['adversario'] != 'Cruzeiro']"
   ]
  },
  {
   "cell_type": "code",
   "execution_count": 566,
   "id": "173cdbe3",
   "metadata": {},
   "outputs": [],
   "source": [
    "df = df.drop(df[df.publico_pagante.isna()].index, axis=0)\n",
    "\n",
    "df = df[~(df['publico_pagante'] == 0)]"
   ]
  },
  {
   "cell_type": "code",
   "execution_count": 567,
   "id": "711e7e9c",
   "metadata": {},
   "outputs": [],
   "source": [
    "df['publico_pagante_ultimo_jogo_em_casa'] = df['publico_pagante'].shift(1)\n",
    "df['renda_bruta_ultimo_jogo_em_casa'] = df['renda_bruta'].shift(1)\n",
    "\n",
    "df = df.drop(df[df['publico_pagante_ultimo_jogo_em_casa'].isna()].index, axis=0)"
   ]
  },
  {
   "cell_type": "code",
   "execution_count": 568,
   "id": "266a2e69",
   "metadata": {},
   "outputs": [],
   "source": [
    "df = df.drop(['publico_presente','placar','campeonato','data_formatada','renda_bruta','gols_visitante','gols_mandante','gols_total','pontos_alcancados','resultado', 'ano','adversario'], axis=1)\n",
    "\n",
    "df = df[df['campeonato_ajustado'] == \"Brasileirão\"]\n",
    "df = df.drop(['campeonato_ajustado'], axis=1)"
   ]
  },
  {
   "cell_type": "code",
   "execution_count": 569,
   "id": "b49ec2ee",
   "metadata": {},
   "outputs": [],
   "source": [
    "df = df.reset_index(drop=True)"
   ]
  },
  {
   "cell_type": "code",
   "execution_count": 570,
   "id": "c56cff43",
   "metadata": {},
   "outputs": [],
   "source": [
    "df = pd.get_dummies(df, drop_first=True)"
   ]
  },
  {
   "cell_type": "markdown",
   "id": "4c8fa9f3",
   "metadata": {},
   "source": [
    "### ANÁLISE DAS MELHORES VARIAVEIS"
   ]
  },
  {
   "cell_type": "code",
   "execution_count": 571,
   "id": "ebf97c6d",
   "metadata": {},
   "outputs": [
    {
     "name": "stdout",
     "output_type": "stream",
     "text": [
      "Quantidade de colunas numéricas restantes 13\n",
      "Quantidade de colunas categóricas restantes 35\n"
     ]
    },
    {
     "name": "stderr",
     "output_type": "stream",
     "text": [
      "C:\\Users\\Dudu_\\AppData\\Local\\Temp\\ipykernel_9816\\537204547.py:8: SettingWithCopyWarning: \n",
      "A value is trying to be set on a copy of a slice from a DataFrame\n",
      "\n",
      "See the caveats in the documentation: https://pandas.pydata.org/pandas-docs/stable/user_guide/indexing.html#returning-a-view-versus-a-copy\n",
      "  num_df.fillna(0, inplace=True)\n",
      "c:\\Users\\Dudu_\\OneDrive\\Documentos\\Estudos\\1. Projetos Pessoais\\3. Previsão Público Cruzeiro\\cruzeiroenv\\Lib\\site-packages\\numpy\\lib\\_function_base_impl.py:2999: RuntimeWarning: invalid value encountered in divide\n",
      "  c /= stddev[:, None]\n",
      "c:\\Users\\Dudu_\\OneDrive\\Documentos\\Estudos\\1. Projetos Pessoais\\3. Previsão Público Cruzeiro\\cruzeiroenv\\Lib\\site-packages\\numpy\\lib\\_function_base_impl.py:3000: RuntimeWarning: invalid value encountered in divide\n",
      "  c /= stddev[None, :]\n",
      "c:\\Users\\Dudu_\\OneDrive\\Documentos\\Estudos\\1. Projetos Pessoais\\3. Previsão Público Cruzeiro\\cruzeiroenv\\Lib\\site-packages\\sklearn\\feature_selection\\_univariate_selection.py:109: RuntimeWarning: invalid value encountered in divide\n",
      "  msw = sswn / float(dfwn)\n",
      "c:\\Users\\Dudu_\\OneDrive\\Documentos\\Estudos\\1. Projetos Pessoais\\3. Previsão Público Cruzeiro\\cruzeiroenv\\Lib\\site-packages\\sklearn\\feature_selection\\_univariate_selection.py:109: RuntimeWarning: invalid value encountered in divide\n",
      "  msw = sswn / float(dfwn)\n",
      "c:\\Users\\Dudu_\\OneDrive\\Documentos\\Estudos\\1. Projetos Pessoais\\3. Previsão Público Cruzeiro\\cruzeiroenv\\Lib\\site-packages\\sklearn\\feature_selection\\_univariate_selection.py:109: RuntimeWarning: invalid value encountered in divide\n",
      "  msw = sswn / float(dfwn)\n",
      "c:\\Users\\Dudu_\\OneDrive\\Documentos\\Estudos\\1. Projetos Pessoais\\3. Previsão Público Cruzeiro\\cruzeiroenv\\Lib\\site-packages\\sklearn\\feature_selection\\_univariate_selection.py:109: RuntimeWarning: invalid value encountered in divide\n",
      "  msw = sswn / float(dfwn)\n",
      "c:\\Users\\Dudu_\\OneDrive\\Documentos\\Estudos\\1. Projetos Pessoais\\3. Previsão Público Cruzeiro\\cruzeiroenv\\Lib\\site-packages\\sklearn\\feature_selection\\_univariate_selection.py:109: RuntimeWarning: invalid value encountered in divide\n",
      "  msw = sswn / float(dfwn)\n",
      "c:\\Users\\Dudu_\\OneDrive\\Documentos\\Estudos\\1. Projetos Pessoais\\3. Previsão Público Cruzeiro\\cruzeiroenv\\Lib\\site-packages\\sklearn\\feature_selection\\_univariate_selection.py:109: RuntimeWarning: invalid value encountered in divide\n",
      "  msw = sswn / float(dfwn)\n",
      "c:\\Users\\Dudu_\\OneDrive\\Documentos\\Estudos\\1. Projetos Pessoais\\3. Previsão Público Cruzeiro\\cruzeiroenv\\Lib\\site-packages\\sklearn\\feature_selection\\_univariate_selection.py:109: RuntimeWarning: invalid value encountered in divide\n",
      "  msw = sswn / float(dfwn)\n",
      "c:\\Users\\Dudu_\\OneDrive\\Documentos\\Estudos\\1. Projetos Pessoais\\3. Previsão Público Cruzeiro\\cruzeiroenv\\Lib\\site-packages\\sklearn\\feature_selection\\_univariate_selection.py:109: RuntimeWarning: invalid value encountered in divide\n",
      "  msw = sswn / float(dfwn)\n",
      "c:\\Users\\Dudu_\\OneDrive\\Documentos\\Estudos\\1. Projetos Pessoais\\3. Previsão Público Cruzeiro\\cruzeiroenv\\Lib\\site-packages\\sklearn\\feature_selection\\_univariate_selection.py:109: RuntimeWarning: invalid value encountered in divide\n",
      "  msw = sswn / float(dfwn)\n",
      "c:\\Users\\Dudu_\\OneDrive\\Documentos\\Estudos\\1. Projetos Pessoais\\3. Previsão Público Cruzeiro\\cruzeiroenv\\Lib\\site-packages\\sklearn\\feature_selection\\_univariate_selection.py:109: RuntimeWarning: invalid value encountered in divide\n",
      "  msw = sswn / float(dfwn)\n",
      "c:\\Users\\Dudu_\\OneDrive\\Documentos\\Estudos\\1. Projetos Pessoais\\3. Previsão Público Cruzeiro\\cruzeiroenv\\Lib\\site-packages\\sklearn\\feature_selection\\_univariate_selection.py:109: RuntimeWarning: invalid value encountered in divide\n",
      "  msw = sswn / float(dfwn)\n",
      "c:\\Users\\Dudu_\\OneDrive\\Documentos\\Estudos\\1. Projetos Pessoais\\3. Previsão Público Cruzeiro\\cruzeiroenv\\Lib\\site-packages\\sklearn\\feature_selection\\_univariate_selection.py:109: RuntimeWarning: invalid value encountered in divide\n",
      "  msw = sswn / float(dfwn)\n",
      "c:\\Users\\Dudu_\\OneDrive\\Documentos\\Estudos\\1. Projetos Pessoais\\3. Previsão Público Cruzeiro\\cruzeiroenv\\Lib\\site-packages\\sklearn\\feature_selection\\_univariate_selection.py:109: RuntimeWarning: invalid value encountered in divide\n",
      "  msw = sswn / float(dfwn)\n"
     ]
    }
   ],
   "source": [
    "linear_dep = pd.DataFrame()\n",
    "\n",
    "print(\"Quantidade de colunas numéricas restantes\", len(df.select_dtypes(include='number').columns))\n",
    "\n",
    "print(\"Quantidade de colunas categóricas restantes\", len(df.select_dtypes(exclude='number').columns))\n",
    "\n",
    "num_df = df[df.select_dtypes(include='number').columns]\n",
    "num_df.fillna(0, inplace=True)\n",
    "\n",
    "for col in num_df.columns:\n",
    "    linear_dep.loc[col, 'pearson_corr'] = num_df[col].corr(num_df['publico_pagante'])\n",
    "linear_dep['abs_pearson_corr'] = abs(linear_dep['pearson_corr'])\n",
    "\n",
    "from sklearn.feature_selection import f_classif\n",
    "for col in num_df.columns:\n",
    "    mask = num_df[col].notnull()\n",
    "    (linear_dep.loc[col, 'F'], linear_dep.loc[col, 'p_value']) = f_classif(pd.DataFrame(num_df.loc[mask, col]), num_df['publico_pagante'].loc[mask])"
   ]
  },
  {
   "cell_type": "code",
   "execution_count": 572,
   "id": "da6338ff",
   "metadata": {},
   "outputs": [
    {
     "data": {
      "text/html": [
       "<div>\n",
       "<style scoped>\n",
       "    .dataframe tbody tr th:only-of-type {\n",
       "        vertical-align: middle;\n",
       "    }\n",
       "\n",
       "    .dataframe tbody tr th {\n",
       "        vertical-align: top;\n",
       "    }\n",
       "\n",
       "    .dataframe thead th {\n",
       "        text-align: right;\n",
       "    }\n",
       "</style>\n",
       "<table border=\"1\" class=\"dataframe\">\n",
       "  <thead>\n",
       "    <tr style=\"text-align: right;\">\n",
       "      <th></th>\n",
       "      <th>pearson_corr</th>\n",
       "      <th>abs_pearson_corr</th>\n",
       "      <th>F</th>\n",
       "      <th>p_value</th>\n",
       "    </tr>\n",
       "  </thead>\n",
       "  <tbody>\n",
       "    <tr>\n",
       "      <th>publico_pagante</th>\n",
       "      <td>1.000000</td>\n",
       "      <td>1.000000</td>\n",
       "      <td>NaN</td>\n",
       "      <td>NaN</td>\n",
       "    </tr>\n",
       "    <tr>\n",
       "      <th>publico_pagante_ultimo_jogo_em_casa</th>\n",
       "      <td>0.342465</td>\n",
       "      <td>0.342465</td>\n",
       "      <td>NaN</td>\n",
       "      <td>NaN</td>\n",
       "    </tr>\n",
       "    <tr>\n",
       "      <th>renda_bruta_ultimo_jogo_em_casa</th>\n",
       "      <td>0.256531</td>\n",
       "      <td>0.256531</td>\n",
       "      <td>NaN</td>\n",
       "      <td>NaN</td>\n",
       "    </tr>\n",
       "    <tr>\n",
       "      <th>classico</th>\n",
       "      <td>0.244219</td>\n",
       "      <td>0.244219</td>\n",
       "      <td>NaN</td>\n",
       "      <td>NaN</td>\n",
       "    </tr>\n",
       "    <tr>\n",
       "      <th>jogos_invencibilidade_previo</th>\n",
       "      <td>-0.170777</td>\n",
       "      <td>0.170777</td>\n",
       "      <td>NaN</td>\n",
       "      <td>NaN</td>\n",
       "    </tr>\n",
       "    <tr>\n",
       "      <th>dia</th>\n",
       "      <td>-0.134598</td>\n",
       "      <td>0.134598</td>\n",
       "      <td>NaN</td>\n",
       "      <td>NaN</td>\n",
       "    </tr>\n",
       "    <tr>\n",
       "      <th>mes</th>\n",
       "      <td>0.120130</td>\n",
       "      <td>0.120130</td>\n",
       "      <td>NaN</td>\n",
       "      <td>NaN</td>\n",
       "    </tr>\n",
       "    <tr>\n",
       "      <th>saldo_gols_previo</th>\n",
       "      <td>0.100313</td>\n",
       "      <td>0.100313</td>\n",
       "      <td>NaN</td>\n",
       "      <td>NaN</td>\n",
       "    </tr>\n",
       "    <tr>\n",
       "      <th>gols_visitante_previo</th>\n",
       "      <td>-0.088343</td>\n",
       "      <td>0.088343</td>\n",
       "      <td>NaN</td>\n",
       "      <td>NaN</td>\n",
       "    </tr>\n",
       "    <tr>\n",
       "      <th>gols_mandante_previo</th>\n",
       "      <td>0.060689</td>\n",
       "      <td>0.060689</td>\n",
       "      <td>NaN</td>\n",
       "      <td>NaN</td>\n",
       "    </tr>\n",
       "    <tr>\n",
       "      <th>aproveitamento_temporada_previo</th>\n",
       "      <td>-0.052134</td>\n",
       "      <td>0.052134</td>\n",
       "      <td>NaN</td>\n",
       "      <td>NaN</td>\n",
       "    </tr>\n",
       "    <tr>\n",
       "      <th>gols_total_previo</th>\n",
       "      <td>-0.023423</td>\n",
       "      <td>0.023423</td>\n",
       "      <td>NaN</td>\n",
       "      <td>NaN</td>\n",
       "    </tr>\n",
       "    <tr>\n",
       "      <th>estreia</th>\n",
       "      <td>NaN</td>\n",
       "      <td>NaN</td>\n",
       "      <td>NaN</td>\n",
       "      <td>NaN</td>\n",
       "    </tr>\n",
       "  </tbody>\n",
       "</table>\n",
       "</div>"
      ],
      "text/plain": [
       "                                     pearson_corr  abs_pearson_corr   F  \\\n",
       "publico_pagante                          1.000000          1.000000 NaN   \n",
       "publico_pagante_ultimo_jogo_em_casa      0.342465          0.342465 NaN   \n",
       "renda_bruta_ultimo_jogo_em_casa          0.256531          0.256531 NaN   \n",
       "classico                                 0.244219          0.244219 NaN   \n",
       "jogos_invencibilidade_previo            -0.170777          0.170777 NaN   \n",
       "dia                                     -0.134598          0.134598 NaN   \n",
       "mes                                      0.120130          0.120130 NaN   \n",
       "saldo_gols_previo                        0.100313          0.100313 NaN   \n",
       "gols_visitante_previo                   -0.088343          0.088343 NaN   \n",
       "gols_mandante_previo                     0.060689          0.060689 NaN   \n",
       "aproveitamento_temporada_previo         -0.052134          0.052134 NaN   \n",
       "gols_total_previo                       -0.023423          0.023423 NaN   \n",
       "estreia                                       NaN               NaN NaN   \n",
       "\n",
       "                                     p_value  \n",
       "publico_pagante                          NaN  \n",
       "publico_pagante_ultimo_jogo_em_casa      NaN  \n",
       "renda_bruta_ultimo_jogo_em_casa          NaN  \n",
       "classico                                 NaN  \n",
       "jogos_invencibilidade_previo             NaN  \n",
       "dia                                      NaN  \n",
       "mes                                      NaN  \n",
       "saldo_gols_previo                        NaN  \n",
       "gols_visitante_previo                    NaN  \n",
       "gols_mandante_previo                     NaN  \n",
       "aproveitamento_temporada_previo          NaN  \n",
       "gols_total_previo                        NaN  \n",
       "estreia                                  NaN  "
      ]
     },
     "execution_count": 572,
     "metadata": {},
     "output_type": "execute_result"
    }
   ],
   "source": [
    "linear_dep.sort_values(by='abs_pearson_corr', ascending=False)"
   ]
  },
  {
   "cell_type": "code",
   "execution_count": 573,
   "id": "d41222f0",
   "metadata": {},
   "outputs": [
    {
     "data": {
      "text/html": [
       "<div>\n",
       "<style scoped>\n",
       "    .dataframe tbody tr th:only-of-type {\n",
       "        vertical-align: middle;\n",
       "    }\n",
       "\n",
       "    .dataframe tbody tr th {\n",
       "        vertical-align: top;\n",
       "    }\n",
       "\n",
       "    .dataframe thead th {\n",
       "        text-align: right;\n",
       "    }\n",
       "</style>\n",
       "<table border=\"1\" class=\"dataframe\">\n",
       "  <thead>\n",
       "    <tr style=\"text-align: right;\">\n",
       "      <th></th>\n",
       "      <th>pearson_corr</th>\n",
       "      <th>abs_pearson_corr</th>\n",
       "      <th>F</th>\n",
       "      <th>p_value</th>\n",
       "    </tr>\n",
       "  </thead>\n",
       "  <tbody>\n",
       "  </tbody>\n",
       "</table>\n",
       "</div>"
      ],
      "text/plain": [
       "Empty DataFrame\n",
       "Columns: [pearson_corr, abs_pearson_corr, F, p_value]\n",
       "Index: []"
      ]
     },
     "execution_count": 573,
     "metadata": {},
     "output_type": "execute_result"
    }
   ],
   "source": [
    "linear_dep[linear_dep['p_value'] < 0.05].sort_values(by='abs_pearson_corr', ascending=False)"
   ]
  },
  {
   "cell_type": "code",
   "execution_count": 574,
   "id": "bc782c31",
   "metadata": {},
   "outputs": [
    {
     "name": "stderr",
     "output_type": "stream",
     "text": [
      "c:\\Users\\Dudu_\\OneDrive\\Documentos\\Estudos\\1. Projetos Pessoais\\3. Previsão Público Cruzeiro\\cruzeiroenv\\Lib\\site-packages\\sklearn\\feature_selection\\_univariate_selection.py:109: RuntimeWarning: divide by zero encountered in divide\n",
      "  msw = sswn / float(dfwn)\n",
      "C:\\Users\\Dudu_\\AppData\\Local\\Temp\\ipykernel_9816\\3530545213.py:17: FutureWarning: The behavior of DataFrame concatenation with empty or all-NA entries is deprecated. In a future version, this will no longer exclude empty or all-NA columns when determining the result dtypes. To retain the old behavior, exclude the relevant entries before the concat operation.\n",
      "  anova_cat_corr = pd.concat([anova_cat_corr, pd.DataFrame({'column': [col], 'F_value': [F[0]], 'p_value': [p[0]]})], ignore_index=True)\n",
      "c:\\Users\\Dudu_\\OneDrive\\Documentos\\Estudos\\1. Projetos Pessoais\\3. Previsão Público Cruzeiro\\cruzeiroenv\\Lib\\site-packages\\sklearn\\feature_selection\\_univariate_selection.py:109: RuntimeWarning: divide by zero encountered in divide\n",
      "  msw = sswn / float(dfwn)\n",
      "c:\\Users\\Dudu_\\OneDrive\\Documentos\\Estudos\\1. Projetos Pessoais\\3. Previsão Público Cruzeiro\\cruzeiroenv\\Lib\\site-packages\\sklearn\\feature_selection\\_univariate_selection.py:109: RuntimeWarning: divide by zero encountered in divide\n",
      "  msw = sswn / float(dfwn)\n",
      "c:\\Users\\Dudu_\\OneDrive\\Documentos\\Estudos\\1. Projetos Pessoais\\3. Previsão Público Cruzeiro\\cruzeiroenv\\Lib\\site-packages\\sklearn\\feature_selection\\_univariate_selection.py:109: RuntimeWarning: divide by zero encountered in divide\n",
      "  msw = sswn / float(dfwn)\n",
      "c:\\Users\\Dudu_\\OneDrive\\Documentos\\Estudos\\1. Projetos Pessoais\\3. Previsão Público Cruzeiro\\cruzeiroenv\\Lib\\site-packages\\sklearn\\feature_selection\\_univariate_selection.py:109: RuntimeWarning: divide by zero encountered in divide\n",
      "  msw = sswn / float(dfwn)\n",
      "c:\\Users\\Dudu_\\OneDrive\\Documentos\\Estudos\\1. Projetos Pessoais\\3. Previsão Público Cruzeiro\\cruzeiroenv\\Lib\\site-packages\\sklearn\\feature_selection\\_univariate_selection.py:109: RuntimeWarning: divide by zero encountered in divide\n",
      "  msw = sswn / float(dfwn)\n",
      "c:\\Users\\Dudu_\\OneDrive\\Documentos\\Estudos\\1. Projetos Pessoais\\3. Previsão Público Cruzeiro\\cruzeiroenv\\Lib\\site-packages\\sklearn\\feature_selection\\_univariate_selection.py:109: RuntimeWarning: divide by zero encountered in divide\n",
      "  msw = sswn / float(dfwn)\n",
      "c:\\Users\\Dudu_\\OneDrive\\Documentos\\Estudos\\1. Projetos Pessoais\\3. Previsão Público Cruzeiro\\cruzeiroenv\\Lib\\site-packages\\sklearn\\feature_selection\\_univariate_selection.py:109: RuntimeWarning: divide by zero encountered in divide\n",
      "  msw = sswn / float(dfwn)\n",
      "c:\\Users\\Dudu_\\OneDrive\\Documentos\\Estudos\\1. Projetos Pessoais\\3. Previsão Público Cruzeiro\\cruzeiroenv\\Lib\\site-packages\\sklearn\\feature_selection\\_univariate_selection.py:109: RuntimeWarning: invalid value encountered in divide\n",
      "  msw = sswn / float(dfwn)\n",
      "c:\\Users\\Dudu_\\OneDrive\\Documentos\\Estudos\\1. Projetos Pessoais\\3. Previsão Público Cruzeiro\\cruzeiroenv\\Lib\\site-packages\\sklearn\\feature_selection\\_univariate_selection.py:109: RuntimeWarning: divide by zero encountered in divide\n",
      "  msw = sswn / float(dfwn)\n",
      "c:\\Users\\Dudu_\\OneDrive\\Documentos\\Estudos\\1. Projetos Pessoais\\3. Previsão Público Cruzeiro\\cruzeiroenv\\Lib\\site-packages\\sklearn\\feature_selection\\_univariate_selection.py:109: RuntimeWarning: divide by zero encountered in divide\n",
      "  msw = sswn / float(dfwn)\n",
      "c:\\Users\\Dudu_\\OneDrive\\Documentos\\Estudos\\1. Projetos Pessoais\\3. Previsão Público Cruzeiro\\cruzeiroenv\\Lib\\site-packages\\sklearn\\feature_selection\\_univariate_selection.py:109: RuntimeWarning: divide by zero encountered in divide\n",
      "  msw = sswn / float(dfwn)\n",
      "c:\\Users\\Dudu_\\OneDrive\\Documentos\\Estudos\\1. Projetos Pessoais\\3. Previsão Público Cruzeiro\\cruzeiroenv\\Lib\\site-packages\\sklearn\\feature_selection\\_univariate_selection.py:109: RuntimeWarning: divide by zero encountered in divide\n",
      "  msw = sswn / float(dfwn)\n",
      "c:\\Users\\Dudu_\\OneDrive\\Documentos\\Estudos\\1. Projetos Pessoais\\3. Previsão Público Cruzeiro\\cruzeiroenv\\Lib\\site-packages\\sklearn\\feature_selection\\_univariate_selection.py:109: RuntimeWarning: invalid value encountered in divide\n",
      "  msw = sswn / float(dfwn)\n",
      "c:\\Users\\Dudu_\\OneDrive\\Documentos\\Estudos\\1. Projetos Pessoais\\3. Previsão Público Cruzeiro\\cruzeiroenv\\Lib\\site-packages\\sklearn\\feature_selection\\_univariate_selection.py:109: RuntimeWarning: divide by zero encountered in divide\n",
      "  msw = sswn / float(dfwn)\n",
      "c:\\Users\\Dudu_\\OneDrive\\Documentos\\Estudos\\1. Projetos Pessoais\\3. Previsão Público Cruzeiro\\cruzeiroenv\\Lib\\site-packages\\sklearn\\feature_selection\\_univariate_selection.py:109: RuntimeWarning: invalid value encountered in divide\n",
      "  msw = sswn / float(dfwn)\n",
      "c:\\Users\\Dudu_\\OneDrive\\Documentos\\Estudos\\1. Projetos Pessoais\\3. Previsão Público Cruzeiro\\cruzeiroenv\\Lib\\site-packages\\sklearn\\feature_selection\\_univariate_selection.py:109: RuntimeWarning: divide by zero encountered in divide\n",
      "  msw = sswn / float(dfwn)\n",
      "c:\\Users\\Dudu_\\OneDrive\\Documentos\\Estudos\\1. Projetos Pessoais\\3. Previsão Público Cruzeiro\\cruzeiroenv\\Lib\\site-packages\\sklearn\\feature_selection\\_univariate_selection.py:109: RuntimeWarning: divide by zero encountered in divide\n",
      "  msw = sswn / float(dfwn)\n",
      "c:\\Users\\Dudu_\\OneDrive\\Documentos\\Estudos\\1. Projetos Pessoais\\3. Previsão Público Cruzeiro\\cruzeiroenv\\Lib\\site-packages\\sklearn\\feature_selection\\_univariate_selection.py:109: RuntimeWarning: divide by zero encountered in divide\n",
      "  msw = sswn / float(dfwn)\n",
      "c:\\Users\\Dudu_\\OneDrive\\Documentos\\Estudos\\1. Projetos Pessoais\\3. Previsão Público Cruzeiro\\cruzeiroenv\\Lib\\site-packages\\sklearn\\feature_selection\\_univariate_selection.py:109: RuntimeWarning: divide by zero encountered in divide\n",
      "  msw = sswn / float(dfwn)\n",
      "c:\\Users\\Dudu_\\OneDrive\\Documentos\\Estudos\\1. Projetos Pessoais\\3. Previsão Público Cruzeiro\\cruzeiroenv\\Lib\\site-packages\\sklearn\\feature_selection\\_univariate_selection.py:109: RuntimeWarning: invalid value encountered in divide\n",
      "  msw = sswn / float(dfwn)\n",
      "c:\\Users\\Dudu_\\OneDrive\\Documentos\\Estudos\\1. Projetos Pessoais\\3. Previsão Público Cruzeiro\\cruzeiroenv\\Lib\\site-packages\\sklearn\\feature_selection\\_univariate_selection.py:109: RuntimeWarning: divide by zero encountered in divide\n",
      "  msw = sswn / float(dfwn)\n",
      "c:\\Users\\Dudu_\\OneDrive\\Documentos\\Estudos\\1. Projetos Pessoais\\3. Previsão Público Cruzeiro\\cruzeiroenv\\Lib\\site-packages\\sklearn\\feature_selection\\_univariate_selection.py:109: RuntimeWarning: divide by zero encountered in divide\n",
      "  msw = sswn / float(dfwn)\n",
      "c:\\Users\\Dudu_\\OneDrive\\Documentos\\Estudos\\1. Projetos Pessoais\\3. Previsão Público Cruzeiro\\cruzeiroenv\\Lib\\site-packages\\sklearn\\feature_selection\\_univariate_selection.py:109: RuntimeWarning: divide by zero encountered in divide\n",
      "  msw = sswn / float(dfwn)\n",
      "c:\\Users\\Dudu_\\OneDrive\\Documentos\\Estudos\\1. Projetos Pessoais\\3. Previsão Público Cruzeiro\\cruzeiroenv\\Lib\\site-packages\\sklearn\\feature_selection\\_univariate_selection.py:109: RuntimeWarning: divide by zero encountered in divide\n",
      "  msw = sswn / float(dfwn)\n",
      "c:\\Users\\Dudu_\\OneDrive\\Documentos\\Estudos\\1. Projetos Pessoais\\3. Previsão Público Cruzeiro\\cruzeiroenv\\Lib\\site-packages\\sklearn\\feature_selection\\_univariate_selection.py:109: RuntimeWarning: divide by zero encountered in divide\n",
      "  msw = sswn / float(dfwn)\n",
      "c:\\Users\\Dudu_\\OneDrive\\Documentos\\Estudos\\1. Projetos Pessoais\\3. Previsão Público Cruzeiro\\cruzeiroenv\\Lib\\site-packages\\sklearn\\feature_selection\\_univariate_selection.py:109: RuntimeWarning: divide by zero encountered in divide\n",
      "  msw = sswn / float(dfwn)\n",
      "c:\\Users\\Dudu_\\OneDrive\\Documentos\\Estudos\\1. Projetos Pessoais\\3. Previsão Público Cruzeiro\\cruzeiroenv\\Lib\\site-packages\\sklearn\\feature_selection\\_univariate_selection.py:109: RuntimeWarning: divide by zero encountered in divide\n",
      "  msw = sswn / float(dfwn)\n",
      "c:\\Users\\Dudu_\\OneDrive\\Documentos\\Estudos\\1. Projetos Pessoais\\3. Previsão Público Cruzeiro\\cruzeiroenv\\Lib\\site-packages\\sklearn\\feature_selection\\_univariate_selection.py:109: RuntimeWarning: divide by zero encountered in divide\n",
      "  msw = sswn / float(dfwn)\n",
      "c:\\Users\\Dudu_\\OneDrive\\Documentos\\Estudos\\1. Projetos Pessoais\\3. Previsão Público Cruzeiro\\cruzeiroenv\\Lib\\site-packages\\sklearn\\feature_selection\\_univariate_selection.py:109: RuntimeWarning: divide by zero encountered in divide\n",
      "  msw = sswn / float(dfwn)\n",
      "c:\\Users\\Dudu_\\OneDrive\\Documentos\\Estudos\\1. Projetos Pessoais\\3. Previsão Público Cruzeiro\\cruzeiroenv\\Lib\\site-packages\\sklearn\\feature_selection\\_univariate_selection.py:109: RuntimeWarning: divide by zero encountered in divide\n",
      "  msw = sswn / float(dfwn)\n",
      "c:\\Users\\Dudu_\\OneDrive\\Documentos\\Estudos\\1. Projetos Pessoais\\3. Previsão Público Cruzeiro\\cruzeiroenv\\Lib\\site-packages\\sklearn\\feature_selection\\_univariate_selection.py:109: RuntimeWarning: divide by zero encountered in divide\n",
      "  msw = sswn / float(dfwn)\n",
      "c:\\Users\\Dudu_\\OneDrive\\Documentos\\Estudos\\1. Projetos Pessoais\\3. Previsão Público Cruzeiro\\cruzeiroenv\\Lib\\site-packages\\sklearn\\feature_selection\\_univariate_selection.py:109: RuntimeWarning: invalid value encountered in divide\n",
      "  msw = sswn / float(dfwn)\n",
      "c:\\Users\\Dudu_\\OneDrive\\Documentos\\Estudos\\1. Projetos Pessoais\\3. Previsão Público Cruzeiro\\cruzeiroenv\\Lib\\site-packages\\sklearn\\feature_selection\\_univariate_selection.py:109: RuntimeWarning: invalid value encountered in divide\n",
      "  msw = sswn / float(dfwn)\n",
      "c:\\Users\\Dudu_\\OneDrive\\Documentos\\Estudos\\1. Projetos Pessoais\\3. Previsão Público Cruzeiro\\cruzeiroenv\\Lib\\site-packages\\sklearn\\feature_selection\\_univariate_selection.py:109: RuntimeWarning: invalid value encountered in divide\n",
      "  msw = sswn / float(dfwn)\n"
     ]
    },
    {
     "data": {
      "text/html": [
       "<div>\n",
       "<style scoped>\n",
       "    .dataframe tbody tr th:only-of-type {\n",
       "        vertical-align: middle;\n",
       "    }\n",
       "\n",
       "    .dataframe tbody tr th {\n",
       "        vertical-align: top;\n",
       "    }\n",
       "\n",
       "    .dataframe thead th {\n",
       "        text-align: right;\n",
       "    }\n",
       "</style>\n",
       "<table border=\"1\" class=\"dataframe\">\n",
       "  <thead>\n",
       "    <tr style=\"text-align: right;\">\n",
       "      <th></th>\n",
       "      <th>column</th>\n",
       "      <th>F_value</th>\n",
       "      <th>p_value</th>\n",
       "    </tr>\n",
       "  </thead>\n",
       "  <tbody>\n",
       "  </tbody>\n",
       "</table>\n",
       "</div>"
      ],
      "text/plain": [
       "Empty DataFrame\n",
       "Columns: [column, F_value, p_value]\n",
       "Index: []"
      ]
     },
     "execution_count": 574,
     "metadata": {},
     "output_type": "execute_result"
    }
   ],
   "source": [
    "from sklearn.feature_selection import f_classif\n",
    "\n",
    "# Select categorical columns (excluding 'publico_pagante')\n",
    "cat_cols = df.select_dtypes(exclude='number').columns\n",
    "\n",
    "anova_cat_corr = pd.DataFrame(columns=['column', 'F_value', 'p_value'])\n",
    "\n",
    "for col in cat_cols:\n",
    "    # Only use rows without missing values in both columns\n",
    "    mask = df[col].notnull() & df['publico_pagante'].notnull()\n",
    "    if mask.sum() > 1 and df[col][mask].nunique() > 1:\n",
    "        X = pd.DataFrame(df[col][mask])\n",
    "        y = df['publico_pagante'][mask]\n",
    "        # Convert categorical to codes for ANOVA\n",
    "        X_encoded = X.apply(lambda x: x.astype('category').cat.codes)\n",
    "        F, p = f_classif(X_encoded, y)\n",
    "        anova_cat_corr = pd.concat([anova_cat_corr, pd.DataFrame({'column': [col], 'F_value': [F[0]], 'p_value': [p[0]]})], ignore_index=True)\n",
    "\n",
    "anova_cat_corr.sort_values('F_value', ascending=False, inplace=True)\n",
    "anova_cat_corr.reset_index(drop=True, inplace=True)\n",
    "anova_cat_corr[anova_cat_corr['p_value'] < 0.05].sort_values('F_value', ascending=False)"
   ]
  },
  {
   "cell_type": "code",
   "execution_count": 575,
   "id": "86be7c49",
   "metadata": {},
   "outputs": [
    {
     "name": "stdout",
     "output_type": "stream",
     "text": [
      "MAE: 8631.141402264031\n",
      "MSE: 133418481.42972977\n",
      "RMSE: 11550.691816065813\n",
      "R²: 0.23236113786697388\n"
     ]
    }
   ],
   "source": [
    "from xgboost import XGBRegressor\n",
    "from sklearn.model_selection import train_test_split\n",
    "from sklearn.linear_model import LinearRegression\n",
    "import numpy as np\n",
    "\n",
    "X = df.drop('publico_pagante', axis=1)\n",
    "y = df['publico_pagante'].values\n",
    "\n",
    "X_train, X_test, y_train, y_test = train_test_split(X, y, test_size=0.2, random_state=42)\n",
    "\n",
    "model = XGBRegressor(objective='reg:squarederror', n_estimators=100, random_state=42)\n",
    "model.fit(X_train, y_train)\n",
    "\n",
    "y_pred = model.predict(X_test)\n",
    "\n",
    "from sklearn.metrics import mean_absolute_error, mean_squared_error, r2_score\n",
    "\n",
    "mae = mean_absolute_error(y_test, y_pred)\n",
    "mse = mean_squared_error(y_test, y_pred)\n",
    "rmse = np.sqrt(mean_squared_error(y_test, y_pred))\n",
    "r2 = r2_score(y_test, y_pred)\n",
    "\n",
    "print(f\"MAE: {mae}\")\n",
    "print(f\"MSE: {mse}\")\n",
    "print(f\"RMSE: {rmse}\")\n",
    "print(f\"R²: {r2}\")\n"
   ]
  },
  {
   "cell_type": "code",
   "execution_count": 578,
   "id": "ee61639e",
   "metadata": {},
   "outputs": [
    {
     "data": {
      "text/plain": [
       "np.float32(1.0000002)"
      ]
     },
     "execution_count": 578,
     "metadata": {},
     "output_type": "execute_result"
    }
   ],
   "source": [
    "import matplotlib.pyplot as plt\n",
    "import seaborn as sns\n",
    "\n",
    "\n",
    "df_importance = pd.DataFrame(data=model.feature_importances_, index=X.columns, columns=['importance']).sort_values(by='importance', ascending=False)\n",
    "\n",
    "df_importance['importance'].sum()"
   ]
  }
 ],
 "metadata": {
  "kernelspec": {
   "display_name": "cruzeiroenv",
   "language": "python",
   "name": "python3"
  },
  "language_info": {
   "codemirror_mode": {
    "name": "ipython",
    "version": 3
   },
   "file_extension": ".py",
   "mimetype": "text/x-python",
   "name": "python",
   "nbconvert_exporter": "python",
   "pygments_lexer": "ipython3",
   "version": "3.12.6"
  }
 },
 "nbformat": 4,
 "nbformat_minor": 5
}
