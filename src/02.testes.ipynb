{
 "cells": [
  {
   "cell_type": "code",
   "execution_count": 1,
   "id": "61bb48b1",
   "metadata": {},
   "outputs": [],
   "source": [
    "import os\n",
    "import pandas as pd"
   ]
  },
  {
   "cell_type": "code",
   "execution_count": 2,
   "id": "ec5891e9",
   "metadata": {},
   "outputs": [],
   "source": [
    "path = 'C:\\\\Users\\\\Dudu_\\\\OneDrive\\\\Documentos\\\\Estudos\\\\1. Projetos Pessoais\\\\3. Previsão Público Cruzeiro\\\\data\\\\raw\\\\climate_data'"
   ]
  },
  {
   "cell_type": "code",
   "execution_count": 5,
   "id": "24a442f7",
   "metadata": {},
   "outputs": [],
   "source": [
    "# Define as conversões de tipos desejadas\n",
    "\t\t\t\t\n",
    "conversoes = {\n",
    "        'Data': 'datetime64[ns]',\n",
    "        'Hora UTC': 'string',    \n",
    "        'PRECIPITAÇÃO TOTAL, HORÁRIO (mm)': 'float',\n",
    "        'TEMPERATURA DO AR - BULBO SECO, HORARIA (°C)': 'float',\n",
    "        'TEMPERATURA DO PONTO DE ORVALHO (°C)': 'float',\n",
    "        'VENTO, VELOCIDADE HORARIA (m/s)': 'float',\n",
    "    }"
   ]
  },
  {
   "cell_type": "code",
   "execution_count": 3,
   "id": "70147b3a",
   "metadata": {},
   "outputs": [],
   "source": [
    "df_raw_clima = pd.read_parquet('C:\\\\Users\\\\Dudu_\\\\OneDrive\\\\Documentos\\\\Estudos\\\\1. Projetos Pessoais\\\\3. Previsão Público Cruzeiro\\\\data\\\\raw\\\\df_raw_clima.parquet',use_pandas_metadata=False, engine=\"pyarrow\")"
   ]
  },
  {
   "cell_type": "code",
   "execution_count": 1,
   "id": "5815af47",
   "metadata": {},
   "outputs": [],
   "source": [
    "from preprocessing.data_cleaning import DataCleaner\n",
    "import pandas as pd\n",
    "\n",
    "df_raw_clima = pd.read_parquet('C:\\\\Users\\\\Dudu_\\\\OneDrive\\\\Documentos\\\\Estudos\\\\1. Projetos Pessoais\\\\3. Previsão Público Cruzeiro\\\\data\\\\raw\\\\df_raw_clima.parquet',use_pandas_metadata=False, engine=\"pyarrow\")\n",
    "\n",
    "conversoes_ = {\n",
    "        'Data': 'datetime64[ns]',\n",
    "        'Hora UTC': 'string',    \n",
    "        'PRECIPITAÇÃO TOTAL, HORÁRIO (mm)': 'float',\n",
    "        'TEMPERATURA DO AR - BULBO SECO, HORARIA (°C)': 'float',\n",
    "        'TEMPERATURA DO PONTO DE ORVALHO (°C)': 'float',\n",
    "        'VENTO, VELOCIDADE HORARIA (m/s)': 'float',\n",
    "    }\n",
    "\n",
    "cleaner = DataCleaner(df_raw_clima)\n",
    "\n",
    "df_trusted_clima = (\n",
    "    cleaner\n",
    "    .tratar_divisor_milhar('TEMPERATURA DO AR - BULBO SECO, HORARIA (°C)')\n",
    "    .tratar_divisor_milhar('TEMPERATURA DO PONTO DE ORVALHO (°C)')\n",
    "    .tratar_decimal('VENTO, VELOCIDADE HORARIA (m/s)')\n",
    "    .tratar_decimal('PRECIPITAÇÃO TOTAL, HORÁRIO (mm)')\n",
    "    .tratar_nulos(\"all\",0)\n",
    "    .ajustar_tipos_colunas(conversoes_)\n",
    "    .get_df()\n",
    "    )\n",
    "\n",
    "# Salva o DataFrame limpo\n",
    "#df_trusted_clima.to_parquet('data/trusted/df_trusted_clima.parquet', engine='pyarrow', index=False)"
   ]
  },
  {
   "cell_type": "code",
   "execution_count": 39,
   "id": "733c9177",
   "metadata": {},
   "outputs": [],
   "source": [
    "df_clima = df_clima.rename(columns={'PRECIPITAÇÃO TOTAL, HORÁRIO (mm)':'precipitacao_total',\n",
    "                                    'TEMPERATURA DO AR - BULBO SECO, HORARIA (°C)':'temp_media_bulbo_seco',\n",
    "                                    'TEMPERATURA DO PONTO DE ORVALHO (°C)':'temp_media_ponto_orvalho',\n",
    "                                    'VENTO, VELOCIDADE HORARIA (m/s)':'velocidade_media_vento',})"
   ]
  },
  {
   "cell_type": "code",
   "execution_count": null,
   "id": "82f9126e",
   "metadata": {},
   "outputs": [],
   "source": [
    "df_clima.groupby(['Data']).agg({'precipitacao_total': 'mean',\n",
    "                                'temp_media_bulbo_seco': 'mean',\n",
    "                                'temp_media_ponto_orvalho': 'sum',\n",
    "                                'velocidade_media_vento': 'mean'}).reset_index()"
   ]
  }
 ],
 "metadata": {
  "kernelspec": {
   "display_name": "cruzeiroenv",
   "language": "python",
   "name": "python3"
  },
  "language_info": {
   "codemirror_mode": {
    "name": "ipython",
    "version": 3
   },
   "file_extension": ".py",
   "mimetype": "text/x-python",
   "name": "python",
   "nbconvert_exporter": "python",
   "pygments_lexer": "ipython3",
   "version": "3.12.6"
  }
 },
 "nbformat": 4,
 "nbformat_minor": 5
}
